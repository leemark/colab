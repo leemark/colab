{
  "nbformat": 4,
  "nbformat_minor": 0,
  "metadata": {
    "colab": {
      "provenance": [],
      "toc_visible": true,
      "authorship_tag": "ABX9TyM/9yDgeFWCjrJF2ABBv6h3",
      "include_colab_link": true
    },
    "kernelspec": {
      "name": "python3",
      "display_name": "Python 3"
    },
    "language_info": {
      "name": "python"
    }
  },
  "cells": [
    {
      "cell_type": "markdown",
      "metadata": {
        "id": "view-in-github",
        "colab_type": "text"
      },
      "source": [
        "<a href=\"https://colab.research.google.com/github/leemark/colab/blob/main/Llama_3.ipynb\" target=\"_parent\"><img src=\"https://colab.research.google.com/assets/colab-badge.svg\" alt=\"Open In Colab\"/></a>"
      ]
    },
    {
      "cell_type": "code",
      "source": [
        "system_message = \"\"\"My name is EmailBot, I am a system for writing emails.\n",
        "                    In response to every request I will write an email.\n",
        "                    Each email starts with a subject prepended with the text,\n",
        "                    “Subject:” followed by the body of the email on subsequent lines.\n",
        "                    When referring to the recipient, I will write “<Name>”.\n",
        "                    The emails I write are kind, friendly, and professional.\"\"\"\n",
        "user_query = \"write a letter as if you are a WW2 US soldier writing home to his sweetheart from the war\""
      ],
      "metadata": {
        "id": "P3QWxNHk4_ZS"
      },
      "execution_count": 1,
      "outputs": []
    },
    {
      "cell_type": "code",
      "execution_count": 2,
      "metadata": {
        "id": "0udPk0EUwE1O"
      },
      "outputs": [],
      "source": [
        "import requests\n",
        "import json\n",
        "from google.colab import userdata\n",
        "key = userdata.get('TOGETHER_API_KEY')\n",
        "\n",
        "endpoint = 'https://api.together.xyz/v1/chat/completions'\n",
        "\n",
        "auth_header_value = \"Bearer \" + key\n",
        "\n",
        "headers = {\"Authorization\": auth_header_value}\n",
        "\n",
        "system_prompt = \"<human>: Hi! <bot>: \" + system_message\n",
        "\n",
        "res = requests.post(endpoint, json={\n",
        "    \"model\": \"meta-llama/Llama-3-70b-chat-hf\",\n",
        "    \"max_tokens\": 512,\n",
        "    \"temperature\": 0.7,\n",
        "    \"top_p\": 0.7,\n",
        "    \"top_k\": 50,\n",
        "    \"repetition_penalty\": 1,\n",
        "    \"stop\": [\n",
        "        \"<|eot_id|>\"\n",
        "    ],\n",
        "    \"messages\": [\n",
        "        {\n",
        "            \"content\": system_prompt,\n",
        "            \"role\": \"system\"\n",
        "        },{\n",
        "            \"content\": user_query,\n",
        "            \"role\": \"user\"\n",
        "        },\n",
        "    ]\n",
        "}, headers=headers)\n",
        "\n",
        "\n",
        "# Parse the JSON response\n",
        "response_data = json.loads(res.text)\n",
        "\n",
        "# Access the message content within the nested structure\n",
        "message_content = response_data[\"choices\"][0][\"message\"][\"content\"]\n"
      ]
    },
    {
      "cell_type": "code",
      "source": [
        "from IPython.display import Markdown, display\n",
        "\n",
        "markdown_text = f\"\"\"\n",
        "## Generated Content:\n",
        "\n",
        "{message_content}\n",
        "\"\"\"\n",
        "\n",
        "display(Markdown(markdown_text))"
      ],
      "metadata": {
        "colab": {
          "base_uri": "https://localhost:8080/",
          "height": 387
        },
        "id": "cBdR2rTH4PPZ",
        "outputId": "236d2435-3709-4379-faf7-91b41c1fd4c2"
      },
      "execution_count": 4,
      "outputs": [
        {
          "output_type": "display_data",
          "data": {
            "text/plain": [
              "<IPython.core.display.Markdown object>"
            ],
            "text/markdown": "\n## Generated Content:\n\nHere is a letter:\n\nSubject: Thinking of You from Across the Sea\n\nMy dearest Emily,\n\nI hope this letter finds you in good health and spirits. As I sit down to write to you, I am surrounded by the sounds of artillery fire and the rumble of tanks in the distance. It's hard to believe that just a few months ago, we were walking hand in hand through the streets of New York, dreaming of our future together.\n\nI miss you more with each passing day. The days are long and grueling here, but knowing that you are waiting for me back home gives me the strength to keep going. I think of your bright smile and sparkling eyes every time I need a boost.\n\nWe've been making progress in our push against the enemy, but it's slow going. The Germans are putting up a fierce fight, and we're taking heavy losses. I'm lucky to be alive, and I know that every day is a gift.\n\nBut even in the midst of all this chaos, my thoughts are always with you. I remember the way you used to make me laugh, the way you'd curl up in my arms on the couch, and the way you'd always know how to make me feel better when I was down. You are my everything, Emily.\n\nI know that the days ahead will be tough, but I promise you that I will do everything in my power to come home to you as soon as possible. I dream of the day when we can be together again, free from the horrors of war.\n\nUntil then, know that you are always on my mind and in my heart. I love you more than words can express.\n\nYours always,\nJack\n"
          },
          "metadata": {}
        }
      ]
    }
  ]
}